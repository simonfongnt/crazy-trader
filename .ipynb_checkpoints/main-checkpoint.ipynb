{
 "cells": [
  {
   "cell_type": "code",
   "execution_count": 12,
   "metadata": {},
   "outputs": [],
   "source": [
    "\"\"\"\n",
    "@author: Crazy Trader\n",
    "Trading Hours (HKT Timezone) Mon - Fri: \n",
    "    HSI Derivatives(Day Session)    : 09:15 - 12:00, 13:00 - 16:30\n",
    "                   (Night Session)  : 17:15 - 01:00\n",
    "    HK Equities    (Auction Session): 09:00 - 09:30\n",
    "                   (Day Session)    : 09:30 - 12:00, 13:00 - 16:08\n",
    "    US Equities                     : 22:30 - 05:00\n",
    "    Forex                           : 00:00 - 23:59\n",
    "Restrictions:\n",
    "    Trading must be in trading hours\n",
    "    Trading must be in sufficnet cash\n",
    "    Option Strike Price is in step of 200\n",
    "    Backtest would be stopped with restriction\n",
    "Assumptions:\n",
    "    Open/Close Rate means Bid/Ask for FX, Close for EQ, and Strike for Options\n",
    "    Option price based on Interest rate is 0.15% and dividend yield is 4.24%, per year\n",
    "    no overnight fee incurred\n",
    "Operations:\n",
    "    Long with Ask Price\n",
    "    Short with Bid Price\n",
    "\"\"\""
   ]
  },
  {
   "cell_type": "code",
   "execution_count": 1,
   "metadata": {},
   "outputs": [],
   "source": [
    "from pylab import *\n",
    "rcParams['figure.figsize'] = (39, 18)"
   ]
  },
  {
   "cell_type": "code",
   "execution_count": 2,
   "metadata": {},
   "outputs": [
    {
     "name": "stdout",
     "output_type": "stream",
     "text": [
      "Dataset Range: from 2018-08-07 09:31:00 to 2018-11-08 16:01:00\n"
     ]
    }
   ],
   "source": [
    "#%% Library & Initialize Dataset and Backtesting Platform\n",
    "from functions import *\n",
    "dataset = {}\n",
    "dataset['HSI']      = 'EQ'       # Close, Volume\n",
    "dataset['PUT']      = 'Custom'   # requires functions\n",
    "dataset['CALL']     = 'Custom'   # requires functions\n",
    "dataset['VHSI']     = 'Vol'      # Close\n",
    "dataset['VIX']      = 'Vol'      # Close\n",
    "dataset['USDHKD']   = 'FX'       # Bid, Ask\n",
    "dataset['XAUHKD']   = 'FX'       # Bid, Ask\n",
    "dataset['HKDTRY']   = 'FX'       # Bid, Ask\n",
    "dataset['USDTRY']   = 'FX'       # Bid, Ask\n",
    "dataset['XRPUSD']   = 'FX'       # Bid, Ask\n",
    "# load dataset and setup initial cash + default handling fee\n",
    "platform = backtest(10000000, 100, dataset)"
   ]
  },
  {
   "cell_type": "code",
   "execution_count": 3,
   "metadata": {
    "scrolled": false
   },
   "outputs": [],
   "source": [
    "#%% Backtest Params\n",
    "start   = '2018-09-01 00:00:00'                             # initialize start date\n",
    "end     = '2018-11-08 00:00:00'                             # initialize start date\n",
    "mask = (platform.quote['USDHKD'].index > start) & (platform.quote['USDHKD'].index <= end)\n",
    "backtestperiod = platform.quote['USDHKD'].loc[mask]\n",
    "platform.initportfolio(10000000, 100)                       # reset initial cash + default handling fee"
   ]
  },
  {
   "cell_type": "code",
   "execution_count": null,
   "metadata": {
    "scrolled": false
   },
   "outputs": [
    {
     "name": "stdout",
     "output_type": "stream",
     "text": [
      "Start Backtesting...\n",
      "2018-09-01 00:01:00 Avl.Cash: 1333892.1732672518\n"
     ]
    }
   ],
   "source": [
    "# start looping every 1 minute\n",
    "print ('Start Backtesting...')\n",
    "prev = None\n",
    "for time, reference in backtestperiod.iterrows():\n",
    "    \"\"\" \n",
    "    Read-Only Params:\n",
    "    platform.quote['HSI'].loc[time].Close\n",
    "    platform.quote['HSI'].loc[time].Volume\n",
    "    platform.quote['VIX'].loc[time].Close\n",
    "    platform.quote['VHSI'].loc[time].Close\n",
    "    platform.quote['XAUHKD'].loc[time].Bid\n",
    "    platform.quote['XAUHKD'].loc[time].Ask\n",
    "    platform.quote['USDTRY'].loc[time].Bid\n",
    "    platform.quote['USDTRY'].loc[time].Ask\n",
    "    platform.quote['XRPUSD'].loc[time].Bid\n",
    "    platform.quote['XRPUSD'].loc[time].Ask\n",
    "    \n",
    "    Paper Trade Methods:\n",
    "    trade(time, 'XRPUSD', 'LONG',  100000)          # LONG FX Order\n",
    "    trade(time, 'XRPUSD', 'CLOSE')                  # CLOSE FX LONG Order\n",
    "    trade(time, 'XRPUSD', 'SHORT', 100000)          # SHORT FX Order\n",
    "    trade(time, 'XRPUSD', 'CLOSE')                  # CLOSE FX SHORT Order\n",
    "    trade(time, 'HSI',    'SHORT', 10)              # LONG EQ Order\n",
    "    trade(time, 'HSI',    'CLOSE')                  # CLOSE EQ LONG Order\n",
    "    trade(time, 'CALL',   'SHORT', 100, 26000, 8)   # SHORT EQ CALL Option\n",
    "    trade(time, 'CALL',   'CLOSE')                  # CLOSE EQ CALL Option\n",
    "    \n",
    "    Other Methods:\n",
    "    platform.portfolio['cash']                      # Available Cash\n",
    "    platform.has_pos('HSI')                         # Check if trading log already ahs HSI positio\n",
    "    \"\"\" \n",
    "    #Examples: \n",
    "    if not prev:                                    # skip first loop to record the time\n",
    "        prev = time\n",
    "        print (time, 'Avl.Cash:', platform.portfolio['cash'])\n",
    "        continue\n",
    "    # Check if EQ market is opened\n",
    "    if platform.is_eqmktopen(time): \n",
    "        # Long EQ conditions\n",
    "        if (\n",
    "                platform.quote['VHSI'].loc[time].Close - platform.quote['VHSI'].loc[prev].Close >= 1 \n",
    "             or platform.quote['VIX'].loc[time].Close - platform.quote['VIX'].loc[prev].Close >= 1\n",
    "             ):\n",
    "            if not platform.has_pos('HSI'):                     # Check if no position exists\n",
    "                platform.trade(time, 'HSI',  'SHORT', 100)\n",
    "                option_strike      = (int(platform.quote['HSI'].loc[time].Close / 200) - 2) * 200\n",
    "                platform.trade(time, 'CALL', 'LONG',  20, option_strike, time.month)\n",
    "        # Close EQ conditions\n",
    "        if (\n",
    "                platform.quote['VHSI'].loc[prev].Close - platform.quote['VHSI'].loc[time].Close >= 1 \n",
    "             or platform.quote['VIX'].loc[prev].Close - platform.quote['VIX'].loc[time].Close >= 1\n",
    "             ):\n",
    "            if platform.has_pos('HSI'):                         # Check if position exists\n",
    "                platform.trade(time, 'HSI',  'CLOSE')\n",
    "                platform.trade(time, 'CALL', 'CLOSE')\n",
    "    # Check if FX and Crypto markets are opened             \n",
    "    if platform.is_fxmktopen(time):  \n",
    "        # Long Crypto conditions\n",
    "        if platform.quote['VIX'].loc[time].Close - platform.quote['VIX'].loc[prev].Close >= 1:\n",
    "            if not platform.has_pos('XRPUSD'):                  # Check if no position exists\n",
    "                platform.trade(time, 'XRPUSD', 'SHORT', 100)\n",
    "        # Close Crypto conditions\n",
    "        if platform.quote['VIX'].loc[prev].Close - platform.quote['VIX'].loc[time].Close >= 1:\n",
    "            if platform.has_pos('XRPUSD'):                      # Check if position exists\n",
    "                platform.trade(time, 'XRPUSD', 'CLOSE')\n",
    "        # Long FX conditions\n",
    "        if time.month == 9:\n",
    "            if not platform.has_pos('USDTRY'):                  # Check if no position exists\n",
    "                platform.trade(time, 'USDTRY', 'SHORT', 5000000)\n",
    "        # Close FX conditions                      \n",
    "        if time.month == 10 and time.day == 31:\n",
    "            if platform.has_pos('USDTRY'):                      # Check if position exists\n",
    "                platform.trade(time, 'USDTRY', 'CLOSE')\n",
    "                \n",
    "    prev = time                                                 # Save this time for next loop\n",
    "    \n",
    "    ### ADD YOUR CODE HERE ###\n",
    "    \n",
    "    ### ADD YOUR CODE HERE ###\n",
    "    \n",
    "    # Update position info once a day: Unrealized, realized P&L\n",
    "    if time.timestamp() % 86400 == 0:\n",
    "        platform.updatepos(time)"
   ]
  },
  {
   "cell_type": "code",
   "execution_count": null,
   "metadata": {
    "scrolled": false
   },
   "outputs": [],
   "source": [
    "# Export Portfolio\n",
    "portfolio, tradelog = platform.exporttrades()\n",
    "temp_log = tradelog\n",
    "for i in range(len(temp_log)): \n",
    "    temp_log.loc[i, 'P&L'] = temp_log.loc[i, 'Unrealized P&L'] + temp_log.loc[i, 'Realized P&L']\n",
    "print ('Activities:')\n",
    "print (tradelog[['Product', 'Position', 'Open Rate', 'Close Rate', 'P&L']])\n",
    "print ('Summary:')\n",
    "print ('Initial:', round(portfolio['initial']), 'Final:', round(portfolio['cash']), 'P&L%:', round(portfolio['P&L'] * 100))"
   ]
  },
  {
   "cell_type": "code",
   "execution_count": null,
   "metadata": {},
   "outputs": [],
   "source": []
  }
 ],
 "metadata": {
  "kernelspec": {
   "display_name": "Python 3",
   "language": "python",
   "name": "python3"
  },
  "language_info": {
   "codemirror_mode": {
    "name": "ipython",
    "version": 3
   },
   "file_extension": ".py",
   "mimetype": "text/x-python",
   "name": "python",
   "nbconvert_exporter": "python",
   "pygments_lexer": "ipython3",
   "version": "3.6.7"
  }
 },
 "nbformat": 4,
 "nbformat_minor": 2
}
